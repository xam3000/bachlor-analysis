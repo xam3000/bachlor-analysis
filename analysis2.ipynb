{
 "cells": [
  {
   "cell_type": "code",
   "execution_count": 2,
   "metadata": {},
   "outputs": [],
   "source": [
    "%matplotlib qt\n",
    "\n",
    "import matplotlib.pyplot as plt\n",
    "import pandas as pd\n",
    "import numpy as np\n",
    "from math import *\n",
    "from scipy.signal import find_peaks\n",
    "from sklearn.neighbors import KernelDensity\n",
    "import librosa"
   ]
  },
  {
   "cell_type": "code",
   "execution_count": 3,
   "metadata": {},
   "outputs": [],
   "source": [
    "def find_most_prominent_peak(peaks,peaks_prominences,valleys,valleys_prominences,min_threshold = 0,max_treshold = inf):\n",
    "    max_prominence = 0\n",
    "    \n",
    "    max_peak = 0\n",
    "    offset = (min_threshold + max_treshold) / 2\n",
    "    for peak, prominence in zip(peaks, peaks_prominences):\n",
    "        if peak > max_treshold:\n",
    "            continue\n",
    "        if peak > min_threshold and prominence * calc_prominence_factor(peak,offset=offset) > max_prominence:\n",
    "            max_prominence = prominence * calc_prominence_factor(peak,offset=offset)\n",
    "            max_peak = peak\n",
    "\n",
    "    for peak, prominence in zip(valleys, valleys_prominences):\n",
    "        if peak > max_treshold:\n",
    "            continue\n",
    "        if peak > min_threshold and prominence * calc_prominence_factor(peak,offset=offset) > max_prominence:\n",
    "            max_prominence = prominence * calc_prominence_factor(peak,offset=offset)\n",
    "            max_peak = peak\n",
    "\n",
    "    return (max_peak, max_prominence)\n",
    "    \n",
    "def calc_prominence_factor(x,threshold = 0.2,offset=0):\n",
    "    return 1 # exp(0-100*(x-offset)**2)"
   ]
  },
  {
   "cell_type": "code",
   "execution_count": 5,
   "metadata": {},
   "outputs": [],
   "source": [
    "class Analysis:\n",
    "    def __init__(self,location):\n",
    "        self.gyro = pd.read_csv(location + \"/android.sensor.gyroscope.csv\")\n",
    "        self.accel = pd.read_csv(location + \"/android.sensor.accelerometer.csv\")\n",
    "        self.beats = pd.read_csv(location + \"/out.csv\")\n",
    "        # y, sr = librosa.load(location + \"/cut.wav\")\n",
    "        # tempo, beats = librosa.beat.beat_track(y=y, sr=sr)\n",
    "        # # beats now contains the beat *frame positions*\n",
    "        # # convert to timestamps like this:\n",
    "        # self.libroa_beat_times = librosa.frames_to_time(beats, sr=sr)\n",
    "    \n",
    "    def preanalysis(self,prominence=(None,None)):\n",
    "\n",
    "        self.accel_time = self.accel.iloc[:,0] / 1000000000\n",
    "        self.gyro_time = self.gyro.iloc[:,0] / 1000000000\n",
    "\n",
    "        self.accel_peaks_x_samples , temp = find_peaks(self.accel.iloc[:,1],prominence=prominence)\n",
    "        self.accel_peaks_x = self.accel_time[self.accel_peaks_x_samples]\n",
    "        self.accel_peaks_x_prominence = temp[\"prominences\"]\n",
    "\n",
    "        self.accel_valleys_x_samples , temp = find_peaks(-1*self.accel.iloc[:,1],prominence=prominence)\n",
    "        self.accel_valleys_x_prominence = temp[\"prominences\"]\n",
    "        self.accel_valleys_x = self.accel_time[self.accel_valleys_x_samples]\n",
    "\n",
    "        self.accel_peaks_y_samples , temp = find_peaks(self.accel.iloc[:,2],prominence=prominence)\n",
    "        self.accel_peaks_y_prominence = temp[\"prominences\"]\n",
    "        self.accel_peaks_y = self.accel_time[self.accel_peaks_y_samples]\n",
    "\n",
    "        self.accel_valleys_y_samples , temp = find_peaks(-1*self.accel.iloc[:,2],prominence=prominence)\n",
    "        self.accel_valleys_y_prominence = temp[\"prominences\"]\n",
    "        self.accel_valleys_y = self.accel_time[self.accel_valleys_y_samples]\n",
    "\n",
    "        self.accel_peaks_z_samples , temp = find_peaks(self.accel.iloc[:,3],prominence=prominence)\n",
    "        self.accel_peaks_z_prominence = temp[\"prominences\"]\n",
    "        self.accel_peaks_z = self.accel_time[self.accel_peaks_z_samples]\n",
    "\n",
    "        self.accel_valleys_z_samples , temp = find_peaks(-1*self.accel.iloc[:,3],prominence=prominence)\n",
    "        self.accel_valleys_z_prominence = temp[\"prominences\"]\n",
    "        self.accel_valleys_z = self.accel_time[self.accel_valleys_z_samples]\n",
    "\n",
    "        self.gyro_peaks_x_samples , temp = find_peaks(self.gyro.iloc[:,1],prominence=prominence)\n",
    "        self.gyro_peaks_x_prominence = temp[\"prominences\"]\n",
    "        self.gyro_peaks_x = self.gyro_time[self.gyro_peaks_x_samples]\n",
    "\n",
    "        self.gyro_valleys_x_samples , temp = find_peaks(-1*self.gyro.iloc[:,1],prominence=prominence)\n",
    "        self.gyro_valleys_x_prominence = temp[\"prominences\"]\n",
    "        self.gyro_valleys_x = self.gyro_time[self.gyro_valleys_x_samples]\n",
    "\n",
    "        self.gyro_peaks_y_samples , temp = find_peaks(self.gyro.iloc[:,2],prominence=prominence)\n",
    "        self.gyro_peaks_y_prominence = temp[\"prominences\"]\n",
    "        self.gyro_peaks_y = self.gyro_time[self.gyro_peaks_y_samples]\n",
    "\n",
    "        self.gyro_valleys_y_samples , temp = find_peaks(-1*self.gyro.iloc[:,2],prominence=prominence)\n",
    "        self.gyro_valleys_y_prominence = temp[\"prominences\"]\n",
    "        self.gyro_valleys_y = self.gyro_time[self.gyro_valleys_y_samples]\n",
    "\n",
    "        self.gyro_peaks_z_samples , temp = find_peaks(self.gyro.iloc[:,3],prominence=prominence)\n",
    "        self.gyro_peaks_z_prominence = temp[\"prominences\"]\n",
    "        self.gyro_peaks_z = self.gyro_time[self.gyro_peaks_z_samples]\n",
    "\n",
    "        self.gyro_valleys_z_samples , temp = find_peaks(-1*self.gyro.iloc[:,3],prominence=prominence)\n",
    "        self.gyro_valleys_z_prominence = temp[\"prominences\"]\n",
    "        self.gyro_valleys_z = self.gyro_time[self.gyro_valleys_z_samples]\n",
    "\n",
    "    def analysis_data(self):\n",
    "        min_threshold = 0\n",
    "        max_threshold = inf\n",
    "\n",
    "        self.beat_diff = (self.beats.iloc[:,0][0] + self.beats.iloc[:,0][len(self.beats.iloc[:,0])-1])/ (len(self.beats.iloc[:,0])-1)\n",
    "        threshold = self.beat_diff / 2\n",
    "\n",
    "        self.accel_peaks = []\n",
    "        self.accel_peaks_axis = []\n",
    "        self.accel_prominences = []\n",
    "        gyro_peaks = []\n",
    "\n",
    "        self.global_max_prominence = 0\n",
    "\n",
    "        for beat, i in zip(self.beats.iloc[:,0],range(len(self.beats.iloc[:,0]))):\n",
    "\n",
    "            #if i < (len(beats)-1):\n",
    "            #    max_threshold = (beats[i+1] + beat) / 2\n",
    "            #else: \n",
    "            #    max_threshold = inf\n",
    "\n",
    "            min_threshold = beat - threshold\n",
    "            max_threshold = beat + threshold\n",
    "\n",
    "            accel_peaks_with_prominence = []\n",
    "            gyro_peaks_with_prominence = []\n",
    "\n",
    "\n",
    "            \n",
    "            accel_peaks_with_prominence.append(find_most_prominent_peak(self.accel_peaks_x,self.accel_peaks_x_prominence,self.accel_valleys_x,self.accel_valleys_x_prominence,min_threshold, max_threshold))\n",
    "            accel_peaks_with_prominence.append(find_most_prominent_peak(self.accel_peaks_y,self.accel_peaks_y_prominence,self.accel_valleys_y,self.accel_valleys_y_prominence,min_threshold, max_threshold))\n",
    "            accel_peaks_with_prominence.append(find_most_prominent_peak(self.accel_peaks_z,self.accel_peaks_z_prominence,self.accel_valleys_z,self.accel_valleys_z_prominence,min_threshold, max_threshold))\n",
    "\n",
    "            gyro_peaks_with_prominence.append(find_most_prominent_peak(self.gyro_peaks_x,self.gyro_peaks_x_prominence,self.gyro_valleys_x,self.gyro_valleys_x_prominence,min_threshold, max_threshold))\n",
    "            gyro_peaks_with_prominence.append(find_most_prominent_peak(self.gyro_peaks_y,self.gyro_peaks_y_prominence,self.gyro_valleys_y,self.gyro_valleys_y_prominence,min_threshold, max_threshold))\n",
    "            gyro_peaks_with_prominence.append(find_most_prominent_peak(self.gyro_peaks_z,self.gyro_peaks_z_prominence,self.gyro_valleys_z,self.gyro_valleys_z_prominence,min_threshold, max_threshold))\n",
    "\n",
    "            max_accel_prominence = 0\n",
    "            max_peak_position = 0\n",
    "            for peak, prominence in accel_peaks_with_prominence:\n",
    "                if prominence > max_accel_prominence:\n",
    "                    max_accel_prominence = prominence\n",
    "                    max_peak_position = peak\n",
    "\n",
    "            accel_peak_sum = 0\n",
    "            accel_peak_count = 0\n",
    "            axis = []\n",
    "\n",
    "\n",
    "            \n",
    "            for (peak, prominence), index in zip(accel_peaks_with_prominence,range(3)):\n",
    "                if prominence  >= (max_accel_prominence * 0.50) and abs(peak-max_peak_position) < threshold / 4:\n",
    "                    accel_peak_sum += peak\n",
    "                    accel_peak_count += 1\n",
    "                    axis.append(index)\n",
    "                    #self.accel_prominences.append(prominence)\n",
    "            if accel_peak_sum > 0:\n",
    "                accel_peak = accel_peak_sum / accel_peak_count\n",
    "                self.accel_peaks.append((accel_peak,max_accel_prominence,accel_peak_count,beat))\n",
    "                self.accel_peaks_axis.append(axis)\n",
    "                self.accel_prominences.append(max_accel_prominence)\n",
    "                if max_accel_prominence > self.global_max_prominence:\n",
    "                    self.global_max_prominence = max_accel_prominence\n",
    "            else:\n",
    "                self.accel_peaks.append((None,None,None,beat))\n",
    "                self.accel_peaks_axis.append([])    \n",
    "            min_threshold = max_threshold\n",
    "\n",
    "\n",
    "    def plot_acceleration_preprosesed(self):\n",
    "        plt.close()\n",
    "        fig, axs = plt.subplots(ncols = 1, nrows = 3,sharey=True,sharex=True)\n",
    "\n",
    "        fig.suptitle('acceleration with peaks with prominence > 25', fontsize=16)\n",
    "\n",
    "        fig.supxlabel(\"time in seconds\")\n",
    "        fig.supylabel(\"acceleration in m/s^2\")\n",
    "\n",
    "        for x, y in zip(self.beats.iloc[:,0], self.beats.iloc[:,1]):\n",
    "\n",
    "            seconds = x#+ offset_seconds\n",
    "\n",
    "            if (y == 1):\n",
    "                linestyle = 'solid'\n",
    "            else:\n",
    "                linestyle = 'dotted'\n",
    "            axs[0].axvline(seconds, color = 'g',linestyle = linestyle)\n",
    "            axs[1].axvline(seconds, color = 'g',linestyle = linestyle)\n",
    "            axs[2].axvline(seconds, color = 'g',linestyle = linestyle)\n",
    "\n",
    "\n",
    "        axs[0].plot(self.accel_peaks_x, np.array(self.accel.iloc[self.accel_peaks_x_samples,1]), \"x\")\n",
    "        axs[0].plot(self.accel_valleys_x, np.array(self.accel.iloc[self.accel_valleys_x_samples,1]), \"o\")\n",
    "        axs[0].plot(self.accel_time,self.accel.iloc[:,1], color = 'r')\n",
    "        axs[0].grid(True)\n",
    "        axs[0].set_title(\"x\")\n",
    "\n",
    "\n",
    "        axs[1].plot(self.accel_peaks_y, np.array(self.accel.iloc[self.accel_peaks_y_samples,2]), \"x\")\n",
    "        axs[1].plot(self.accel_valleys_y, np.array(self.accel.iloc[self.accel_valleys_y_samples,2]), \"o\")\n",
    "        axs[1].plot(self.accel_time,self.accel.iloc[:,2], color = 'r')\n",
    "        axs[1].grid(True)\n",
    "        axs[1].set_title(\"y\")\n",
    "\n",
    "\n",
    "        axs[2].plot(self.accel_peaks_z, np.array(self.accel.iloc[self.accel_peaks_z_samples,3]), \"x\")\n",
    "        axs[2].plot(self.accel_valleys_z, np.array(self.accel.iloc[self.accel_valleys_z_samples,3]), \"o\")\n",
    "        axs[2].plot(self.accel_time,self.accel.iloc[:,3], color = 'r')\n",
    "        axs[2].grid(True)\n",
    "        axs[2].set_title(\"z\")\n",
    "\n",
    "\n",
    "        plt.grid(True)\n",
    "        plt.show()\n",
    "\n",
    "    def plot_gyro_preprosesed(self):\n",
    "        plt.close()\n",
    "        fig, axs = plt.subplots(ncols = 1, nrows = 3,sharey=True,sharex=True)\n",
    "\n",
    "        fig.suptitle('gyro with peaks with prominence > 25', fontsize=16)\n",
    "\n",
    "        fig.supxlabel(\"time in seconds\")\n",
    "        fig.supylabel(\"gyro\")\n",
    "\n",
    "        for x, y in zip(self.beats.iloc[:,0], self.beats.iloc[:,1]):\n",
    "\n",
    "            seconds = x#+ offset_seconds\n",
    "\n",
    "            if (y == 1):\n",
    "                linestyle = 'solid'\n",
    "            else:\n",
    "                linestyle = 'dotted'\n",
    "            axs[0].axvline(seconds, color = 'g',linestyle = linestyle)\n",
    "            axs[1].axvline(seconds, color = 'g',linestyle = linestyle)\n",
    "            axs[2].axvline(seconds, color = 'g',linestyle = linestyle)\n",
    "\n",
    "\n",
    "        axs[0].plot(self.gyro_peaks_x, np.array(self.gyro.iloc[self.gyro_peaks_x_samples,1]), \"x\")\n",
    "        axs[0].plot(self.gyro_valleys_x, np.array(self.gyro.iloc[self.gyro_valleys_x_samples,1]), \"o\")\n",
    "        axs[0].plot(self.gyro_time,self.gyro.iloc[:,1], color = 'r')\n",
    "        axs[0].grid(True)\n",
    "        axs[0].set_title(\"x\")\n",
    "\n",
    "\n",
    "        axs[1].plot(self.gyro_peaks_y, np.array(self.gyro.iloc[self.gyro_peaks_y_samples,2]), \"x\")\n",
    "        axs[1].plot(self.gyro_valleys_y, np.array(self.gyro.iloc[self.gyro_valleys_y_samples,2]), \"o\")\n",
    "        axs[1].plot(self.gyro_time,self.gyro.iloc[:,2], color = 'r')\n",
    "        axs[1].grid(True)\n",
    "        axs[1].set_title(\"y\")\n",
    "\n",
    "\n",
    "        axs[2].plot(self.gyro_peaks_z, np.array(self.gyro.iloc[self.gyro_peaks_z_samples,3]), \"x\")\n",
    "        axs[2].plot(self.gyro_valleys_z, np.array(self.gyro.iloc[self.gyro_valleys_z_samples,3]), \"o\")\n",
    "        axs[2].plot(self.gyro_time,self.gyro.iloc[:,3], color = 'r')\n",
    "        axs[2].grid(True)\n",
    "        axs[2].set_title(\"z\")\n",
    "\n",
    "\n",
    "        plt.grid(True)\n",
    "        plt.show()\n",
    "\n",
    "    def plot_beat_diff(self):\n",
    "        self.calculate_running_average()\n",
    "        #plt.close()\n",
    "        plt.axhline(1)\n",
    "        #plt.axhline(threshold)\n",
    "        plt.xlabel(\"time in seconds\")\n",
    "        plt.ylabel(\"distance to next beat in seconds\")\n",
    "        plt.title(\"time delta for each beat\")\n",
    "        #plt.axhline(-1*beat_diff)\n",
    "        #plt.axhline(-1*threshold)\n",
    "        label = True\n",
    "        for peak, prominence , _ ,beat in self.accel_peaks:\n",
    "            if (peak == None):\n",
    "                continue\n",
    "            diff = abs(peak - beat)\n",
    "            if label:\n",
    "                plt.plot(beat, diff/self.beat_diff,\"b.\", label=\"beat\")\n",
    "                label = False\n",
    "            else:\n",
    "                plt.plot(beat, diff/self.beat_diff,\"b.\") \n",
    "\n",
    "\n",
    "        for averages, beats in self.running_average:\n",
    "\n",
    "            plt.plot(beats,averages/self.beat_diff,\"r\")\n",
    "\n",
    "        plt.grid(True)\n",
    "        plt.legend()\n",
    "        plt.show()\n",
    "\n",
    "    def plot_accelration_with_motion_beat(self):\n",
    "        plt.close()\n",
    "        fig, axs = plt.subplots(ncols = 1, nrows = 3,sharey=True,sharex=True)\n",
    "\n",
    "        fig.suptitle('acceleration with motion- and music beats', fontsize=16)\n",
    "\n",
    "        fig.supxlabel(\"time in seconds\")\n",
    "        fig.supylabel(\"acceleration in m/s^2\")\n",
    "\n",
    "\n",
    "        axs[2].axvline(self.beats.iloc[:,0][0], color = 'g',label = \"music beat\")\n",
    "\n",
    "\n",
    "        for peak, axis in zip(self.accel_peaks, self.accel_peaks_axis):\n",
    "            if 2 in axis:\n",
    "                axs[2].axvline(peak[0],color='b',label = \"motion beat\")\n",
    "                break\n",
    "        axs[2].legend()\n",
    "                \n",
    "        #axs[accel_peaks_axis[0][0]].axvline(accel_peaks[0][0],color='b',label = \"b\")\n",
    "\n",
    "\n",
    "        for x, y in zip(self.beats.iloc[:,0],self.beats.iloc[:,1]):\n",
    "            seconds = x\n",
    "\n",
    "            if (y == 1):\n",
    "                linestyle = 'solid'\n",
    "            else:\n",
    "                linestyle = 'dotted'\n",
    "            axs[0].axvline(seconds, color = 'g',linestyle = linestyle)\n",
    "            axs[1].axvline(seconds, color = 'g',linestyle = linestyle)\n",
    "            axs[2].axvline(seconds, color = 'g',linestyle = linestyle)\n",
    "\n",
    "        for peak, axis in zip(self.accel_peaks, self.accel_peaks_axis):\n",
    "            for i in axis:\n",
    "                axs[i].axvline(peak[0], color = 'b')\n",
    "\n",
    "\n",
    "        axs[0].plot(self.accel_peaks_x, np.array(self.accel.iloc[self.accel_peaks_x_samples,1]), \"x\")\n",
    "        axs[0].plot(self.accel_valleys_x, np.array(self.accel.iloc[self.accel_valleys_x_samples,1]), \"o\")\n",
    "        axs[0].plot(self.accel_time,self.accel.iloc[:,1], color = 'r')\n",
    "        axs[0].grid(True)\n",
    "        axs[0].set_title(\"x\")\n",
    "\n",
    "\n",
    "        axs[1].plot(self.accel_peaks_y, np.array(self.accel.iloc[self.accel_peaks_y_samples,2]), \"x\")\n",
    "        axs[1].plot(self.accel_valleys_y, np.array(self.accel.iloc[self.accel_valleys_y_samples,2]), \"o\")\n",
    "        axs[1].plot(self.accel_time,self.accel.iloc[:,2], color = 'r')\n",
    "        axs[1].grid(True)\n",
    "        axs[1].set_title(\"y\")\n",
    "\n",
    "\n",
    "        axs[2].plot(self.accel_peaks_z, np.array(self.accel.iloc[self.accel_peaks_z_samples,3]), \"x\")\n",
    "        axs[2].plot(self.accel_valleys_z, np.array(self.accel.iloc[self.accel_valleys_z_samples,3]), \"o\")\n",
    "        axs[2].plot(self.accel_time,self.accel.iloc[:,3], color = 'r')\n",
    "        axs[2].grid(True)\n",
    "        axs[2].set_title(\"z\")\n",
    "\n",
    "\n",
    "        plt.grid(True)\n",
    "        axs[0].legend()\n",
    "        plt.show()\n",
    "\n",
    "    def analysis(self):\n",
    "        self.preanalysis()\n",
    "        self.analysis_data()\n",
    "\n",
    "        new_array= np.reshape(self.accel_prominences, (1, -1))\n",
    "        #print(new_array)\n",
    "\n",
    "        kde = KernelDensity(kernel='epanechnikov',bandwidth='silverman').fit(np.array(self.accel_prominences).reshape((-1,1)))\n",
    "        x_plot = np.linspace(floor(min(self.accel_prominences)),ceil(max(self.accel_prominences)),1000)[:,np.newaxis]\n",
    "        log_dens = kde.score_samples(x_plot)\n",
    "\n",
    "        peaks , _ = find_peaks(-1 * np.exp(log_dens),height=-0.02)\n",
    "        min_prominence= x_plot[peaks[0]][0]\n",
    "\n",
    "        self.preanalysis(prominence=(min_prominence,None))\n",
    "        self.analysis_data()\n",
    "\n",
    "        plt.plot(x_plot[:,0],np.exp(log_dens))\n",
    "        plt.plot(x_plot[peaks],np.exp(log_dens)[peaks],\"x\")\n",
    "        plt.grid(True)\n",
    "        plt.show()\n",
    "    \n",
    "\n",
    "    def calculate_running_average(self,bandwith=10):\n",
    "        averages = []\n",
    "        beats = []\n",
    "        elements = []\n",
    "        self.running_average = []\n",
    "        for peak, _ , _ ,beat in self.accel_peaks:\n",
    "            if peak == None:\n",
    "                elements = []\n",
    "                if len(averages)>0:\n",
    "                    self.running_average.append((averages,beats))\n",
    "                    averages = []\n",
    "                    beats = []\n",
    "                continue\n",
    "            elements.append(abs(peak - beat))\n",
    "            if len(elements) > bandwith:\n",
    "                elements = elements[1:]\n",
    "            if len(elements) > bandwith / 2:\n",
    "                average = sum(elements)/ len(elements)\n",
    "                averages.append(average)\n",
    "                beats.append(beat)\n",
    "        if len(averages)>0:\n",
    "            self.running_average.append((averages,beats))\n",
    "\n",
    "    def shift_beat(self, factor):\n",
    "        print(self.beats)\n",
    "        self.beats = self.beats + self.beat_diff*factor\n",
    "        print(self.beats)\n",
    "\n",
    "lotta = Analysis(\"donnerstag_extratraining/Lotta/\")\n",
    "#lotta.analysis()\n",
    "#lotta.shift_beat(0.5)\n",
    "lotta.analysis()\n",
    "plt.close()\n",
    "lotta.plot_beat_diff()"
   ]
  },
  {
   "cell_type": "code",
   "execution_count": 86,
   "metadata": {},
   "outputs": [
    {
     "name": "stdout",
     "output_type": "stream",
     "text": [
      "[ 21  43  50  56  62  73  81  89  98 105 116 127 136 147 160 174 192 221\n",
      " 241 252 267 283 298 314 327 337 339 343 348 359 367 374 381 409 440 473\n",
      " 510 536 555 557 563 582 600 615 634 646 655 667 693 723 766 805 813 835\n",
      " 864 916 961 970 985]\n",
      "2.5855855855855854\n"
     ]
    }
   ],
   "source": [
    "phil = Analysis(\"donnerstag_extratraining/Phil/\")\n",
    "phil.analysis()"
   ]
  },
  {
   "cell_type": "code",
   "execution_count": 13,
   "metadata": {},
   "outputs": [],
   "source": [
    "phil.plot_acceleration_preprosesed()"
   ]
  },
  {
   "cell_type": "code",
   "execution_count": 78,
   "metadata": {},
   "outputs": [
    {
     "name": "stderr",
     "output_type": "stream",
     "text": [
      "No artists with labels found to put in legend.  Note that artists whose label start with an underscore are ignored when legend() is called with no argument.\n"
     ]
    }
   ],
   "source": [
    "phil.plot_accelration_with_motion_beat()"
   ]
  },
  {
   "cell_type": "code",
   "execution_count": 116,
   "metadata": {},
   "outputs": [],
   "source": [
    "phil.plot_beat_diff()"
   ]
  },
  {
   "cell_type": "code",
   "execution_count": 27,
   "metadata": {},
   "outputs": [],
   "source": [
    "phil.plot_gyro_preprosesed()"
   ]
  },
  {
   "cell_type": "code",
   "execution_count": 124,
   "metadata": {},
   "outputs": [
    {
     "name": "stdout",
     "output_type": "stream",
     "text": [
      "[ 29  36  43  53  58  60  66  76  78  87  99 108 116 120 126 130 132 134\n",
      " 138 142 147 154 162 173 181 191 195 198 200 206 217 228 231 237 242 248\n",
      " 250 252 258 262 266 272 279 282 287 296 301 306 310 314 319 321 326 329\n",
      " 337 343 354 367 373 379 385 389 399 410 431 452 468 482 495 538 634 760\n",
      " 907]\n",
      "4.18018018018018\n"
     ]
    }
   ],
   "source": [
    "lotta = Analysis(\"donnerstag_extratraining/Lotta/\")\n",
    "lotta.analysis()"
   ]
  },
  {
   "cell_type": "code",
   "execution_count": 19,
   "metadata": {},
   "outputs": [],
   "source": [
    "lotta.plot_acceleration_preprosesed()"
   ]
  },
  {
   "cell_type": "code",
   "execution_count": 20,
   "metadata": {},
   "outputs": [
    {
     "name": "stderr",
     "output_type": "stream",
     "text": [
      "No artists with labels found to put in legend.  Note that artists whose label start with an underscore are ignored when legend() is called with no argument.\n"
     ]
    }
   ],
   "source": [
    "lotta.plot_accelration_with_motion_beat()\n"
   ]
  },
  {
   "cell_type": "code",
   "execution_count": 16,
   "metadata": {},
   "outputs": [
    {
     "name": "stdout",
     "output_type": "stream",
     "text": [
      "[ 29  36  43  53  58  60  66  76  78  87  99 108 116 120 126 130 132 134\n",
      " 138 142 147 154 162 173 181 191 195 198 200 206 217 228 231 237 242 248\n",
      " 250 252 258 262 266 272 279 282 287 296 301 306 310 314 319 321 326 329\n",
      " 337 343 354 367 373 379 385 389 399 410 431 452 468 482 495 538 634 760\n",
      " 907]\n",
      "4.18018018018018\n"
     ]
    }
   ],
   "source": [
    "lotta = Analysis(\"donnerstag_extratraining/Lotta/\")\n",
    "lotta.analysis()\n",
    "plt.close()\n",
    "lotta.plot_beat_diff()"
   ]
  },
  {
   "cell_type": "code",
   "execution_count": 29,
   "metadata": {},
   "outputs": [],
   "source": [
    "lotta.plot_gyro_preprosesed()"
   ]
  },
  {
   "attachments": {},
   "cell_type": "markdown",
   "metadata": {},
   "source": [
    "Shows the acceleration over time split by axis and with peaks with a prominence over 25"
   ]
  },
  {
   "attachments": {},
   "cell_type": "markdown",
   "metadata": {},
   "source": [
    "Shows the time diffrent each motionbeat has to its next musicbeat"
   ]
  },
  {
   "cell_type": "code",
   "execution_count": 1,
   "metadata": {},
   "outputs": [
    {
     "ename": "NameError",
     "evalue": "name 'Analysis' is not defined",
     "output_type": "error",
     "traceback": [
      "\u001b[1;31m---------------------------------------------------------------------------\u001b[0m",
      "\u001b[1;31mNameError\u001b[0m                                 Traceback (most recent call last)",
      "Cell \u001b[1;32mIn[1], line 1\u001b[0m\n\u001b[1;32m----> 1\u001b[0m cc \u001b[39m=\u001b[39m Analysis(\u001b[39m\"\u001b[39m\u001b[39mcrewcamp/scatman-samstag/\u001b[39m\u001b[39m\"\u001b[39m)\n\u001b[0;32m      2\u001b[0m cc\u001b[39m.\u001b[39manalysis()\n",
      "\u001b[1;31mNameError\u001b[0m: name 'Analysis' is not defined"
     ]
    }
   ],
   "source": [
    "cc = Analysis(\"crewcamp/scatman-samstag/\")\n",
    "cc.analysis()"
   ]
  },
  {
   "cell_type": "code",
   "execution_count": 8,
   "metadata": {},
   "outputs": [
    {
     "name": "stderr",
     "output_type": "stream",
     "text": [
      "qt.qpa.wayland: Wayland does not support QWindow::requestActivate()\n"
     ]
    }
   ],
   "source": [
    "cc.plot_acceleration_preprosesed()"
   ]
  },
  {
   "cell_type": "code",
   "execution_count": 10,
   "metadata": {},
   "outputs": [
    {
     "name": "stderr",
     "output_type": "stream",
     "text": [
      "qt.qpa.wayland: Wayland does not support QWindow::requestActivate()\n"
     ]
    }
   ],
   "source": [
    "cc.plot_beat_diff()"
   ]
  },
  {
   "cell_type": "code",
   "execution_count": 12,
   "metadata": {},
   "outputs": [
    {
     "data": {
      "text/plain": [
       "array([ 3.52943311,  3.90095238,  4.27247166,  4.64399093,  5.0155102 ,\n",
       "        5.38702948,  5.78176871,  6.19972789,  6.59446712,  6.98920635,\n",
       "        7.36072562,  7.80190476,  8.26630385,  8.73070295,  9.10222222,\n",
       "        9.4737415 ,  9.86848073, 10.26321995, 10.65795918, 11.05269841,\n",
       "       11.44743764, 11.84217687, 12.2369161 , 12.65487528, 13.02639456,\n",
       "       13.39791383, 13.79265306, 14.18739229, 14.60535147, 15.04653061,\n",
       "       15.4644898 , 15.90566893, 16.30040816, 16.69514739, 17.08988662,\n",
       "       17.48462585, 17.85614512, 18.25088435, 18.62240363, 19.01714286,\n",
       "       19.41188209, 19.80662132, 20.17814059, 20.57287982, 20.96761905,\n",
       "       21.36235828, 21.73387755, 22.12861678, 22.50013605, 22.89487528,\n",
       "       23.28961451, 23.66113379, 24.05587302, 24.42739229, 24.82213152,\n",
       "       25.19365079, 25.58839002, 25.98312925, 26.37786848, 26.77260771,\n",
       "       27.14412698, 27.53886621, 27.91038549, 28.30512472, 28.69986395,\n",
       "       29.07138322, 29.46612245, 29.86086168, 30.23238095, 30.62712018,\n",
       "       31.02185941, 31.39337868, 31.78811791, 32.18285714, 32.55437642,\n",
       "       32.94911565, 33.34385488, 33.7385941 , 34.11011338, 34.50485261,\n",
       "       34.89959184, 35.27111111, 35.64263039, 36.03736961, 36.43210884,\n",
       "       36.82684807, 37.19836735, 37.59310658, 37.9878458 , 38.38258503])"
      ]
     },
     "execution_count": 12,
     "metadata": {},
     "output_type": "execute_result"
    }
   ],
   "source": [
    "y, sr = librosa.load(\"windows/clean.wav\")\n",
    "tempo, beats = librosa.beat.beat_track(y=y, sr=sr)\n",
    "# beats now contains the beat *frame positions*\n",
    "# convert to timestamps like this:\n",
    "beat_times = librosa.frames_to_time(beats, sr=sr)\n",
    "beat_times"
   ]
  },
  {
   "cell_type": "code",
   "execution_count": 23,
   "metadata": {},
   "outputs": [
    {
     "name": "stderr",
     "output_type": "stream",
     "text": [
      "qt.qpa.wayland: Wayland does not support QWindow::requestActivate()\n"
     ]
    }
   ],
   "source": [
    "for beat in beat_times:\n",
    "    plt.axvline(beat, color='g')\n",
    "for beat in cc.beats[\"time in seconds\"]:\n",
    "    plt.axvline(beat, color='r',alpha=0.5)\n",
    "\n",
    "plt.show()"
   ]
  }
 ],
 "metadata": {
  "kernelspec": {
   "display_name": "Python 3 (ipykernel)",
   "language": "python",
   "name": "python3"
  },
  "language_info": {
   "codemirror_mode": {
    "name": "ipython",
    "version": 3
   },
   "file_extension": ".py",
   "mimetype": "text/x-python",
   "name": "python",
   "nbconvert_exporter": "python",
   "pygments_lexer": "ipython3",
   "version": "3.10.11"
  }
 },
 "nbformat": 4,
 "nbformat_minor": 2
}
